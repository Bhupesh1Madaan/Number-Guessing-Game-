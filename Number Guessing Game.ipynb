{
 "cells": [
  {
   "cell_type": "code",
   "execution_count": 1,
   "id": "70d96db8-463e-4614-8de5-38c35879dbc1",
   "metadata": {},
   "outputs": [
    {
     "name": "stdout",
     "output_type": "stream",
     "text": [
      "Enter Starting and Ending Range for your guessing game\n",
      "\n"
     ]
    },
    {
     "name": "stdin",
     "output_type": "stream",
     "text": [
      "Enter Starting Range :  12\n",
      "Enter Ending Range :  20\n",
      "Guess The Number:  15\n"
     ]
    },
    {
     "name": "stdout",
     "output_type": "stream",
     "text": [
      "Your Number is too small\n"
     ]
    },
    {
     "name": "stdin",
     "output_type": "stream",
     "text": [
      "Guess The Number:  17\n"
     ]
    },
    {
     "name": "stdout",
     "output_type": "stream",
     "text": [
      "Congratulations you have guessed right\n"
     ]
    }
   ],
   "source": [
    "import random\n",
    "import math\n",
    "print(\"Enter Starting and Ending Range for your guessing game\\n\")\n",
    "a=int(input(\"Enter Starting Range : \"))\n",
    "b=int(input(\"Enter Ending Range : \"))\n",
    "x=random.randint(a,b)\n",
    "# print(x)\n",
    "while True:\n",
    "    c=int(input(\"Guess The Number: \"))\n",
    "    if c==x:\n",
    "        print(\"Congratulations you have guessed right\")\n",
    "        break\n",
    "    elif c<=x:\n",
    "        print(\"Your Number is too small\")\n",
    "    elif c>=x:\n",
    "        print(\"Your Number is too Large\")\n",
    "    else:\n",
    "        print(\"Try Again\")"
   ]
  },
  {
   "cell_type": "code",
   "execution_count": null,
   "id": "aea35fb5-19ed-4bb5-9a24-fc11a5a80a34",
   "metadata": {},
   "outputs": [],
   "source": []
  }
 ],
 "metadata": {
  "kernelspec": {
   "display_name": "Python 3 (ipykernel)",
   "language": "python",
   "name": "python3"
  },
  "language_info": {
   "codemirror_mode": {
    "name": "ipython",
    "version": 3
   },
   "file_extension": ".py",
   "mimetype": "text/x-python",
   "name": "python",
   "nbconvert_exporter": "python",
   "pygments_lexer": "ipython3",
   "version": "3.11.7"
  }
 },
 "nbformat": 4,
 "nbformat_minor": 5
}
